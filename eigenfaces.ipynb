{
 "cells": [
  {
   "cell_type": "markdown",
   "metadata": {},
   "source": [
    "# Unzipping, splitting and preprocessing of the dataset"
   ]
  },
  {
   "cell_type": "code",
   "execution_count": 820,
   "metadata": {},
   "outputs": [],
   "source": [
    "import os\n",
    "import pandas as pd\n",
    "import random\n",
    "import numpy as np\n",
    "from sklearn.metrics.pairwise import cosine_similarity\n",
    "from sklearn.metrics import f1_score"
   ]
  },
  {
   "cell_type": "code",
   "execution_count": 821,
   "metadata": {},
   "outputs": [],
   "source": [
    "# file fer2013.tar.gz must be in the same directory as the notebook\n",
    "!tar -xf fer2013.tar.gz"
   ]
  },
  {
   "cell_type": "code",
   "execution_count": 822,
   "metadata": {},
   "outputs": [
    {
     "name": "stdout",
     "output_type": "stream",
     "text": [
      "Current directory: C:\\Users\\Maksim Komatovskiy\\Desktop\\cv_proj \n",
      "\n"
     ]
    },
    {
     "data": {
      "text/html": [
       "<div>\n",
       "<style scoped>\n",
       "    .dataframe tbody tr th:only-of-type {\n",
       "        vertical-align: middle;\n",
       "    }\n",
       "\n",
       "    .dataframe tbody tr th {\n",
       "        vertical-align: top;\n",
       "    }\n",
       "\n",
       "    .dataframe thead th {\n",
       "        text-align: right;\n",
       "    }\n",
       "</style>\n",
       "<table border=\"1\" class=\"dataframe\">\n",
       "  <thead>\n",
       "    <tr style=\"text-align: right;\">\n",
       "      <th></th>\n",
       "      <th>emotion</th>\n",
       "      <th>pixels</th>\n",
       "      <th>Usage</th>\n",
       "    </tr>\n",
       "  </thead>\n",
       "  <tbody>\n",
       "    <tr>\n",
       "      <th>0</th>\n",
       "      <td>0</td>\n",
       "      <td>70 80 82 72 58 58 60 63 54 58 60 48 89 115 121...</td>\n",
       "      <td>Training</td>\n",
       "    </tr>\n",
       "    <tr>\n",
       "      <th>1</th>\n",
       "      <td>0</td>\n",
       "      <td>151 150 147 155 148 133 111 140 170 174 182 15...</td>\n",
       "      <td>Training</td>\n",
       "    </tr>\n",
       "    <tr>\n",
       "      <th>2</th>\n",
       "      <td>2</td>\n",
       "      <td>231 212 156 164 174 138 161 173 182 200 106 38...</td>\n",
       "      <td>Training</td>\n",
       "    </tr>\n",
       "    <tr>\n",
       "      <th>3</th>\n",
       "      <td>4</td>\n",
       "      <td>24 32 36 30 32 23 19 20 30 41 21 22 32 34 21 1...</td>\n",
       "      <td>Training</td>\n",
       "    </tr>\n",
       "    <tr>\n",
       "      <th>4</th>\n",
       "      <td>6</td>\n",
       "      <td>4 0 0 0 0 0 0 0 0 0 0 0 3 15 23 28 48 50 58 84...</td>\n",
       "      <td>Training</td>\n",
       "    </tr>\n",
       "  </tbody>\n",
       "</table>\n",
       "</div>"
      ],
      "text/plain": [
       "   emotion                                             pixels     Usage\n",
       "0        0  70 80 82 72 58 58 60 63 54 58 60 48 89 115 121...  Training\n",
       "1        0  151 150 147 155 148 133 111 140 170 174 182 15...  Training\n",
       "2        2  231 212 156 164 174 138 161 173 182 200 106 38...  Training\n",
       "3        4  24 32 36 30 32 23 19 20 30 41 21 22 32 34 21 1...  Training\n",
       "4        6  4 0 0 0 0 0 0 0 0 0 0 0 3 15 23 28 48 50 58 84...  Training"
      ]
     },
     "execution_count": 822,
     "metadata": {},
     "output_type": "execute_result"
    }
   ],
   "source": [
    "# reading the data\n",
    "os.chdir(os.getcwd() + '/fer2013')\n",
    "full_data = pd.read_csv('fer2013.csv')\n",
    "os.chdir('../')\n",
    "print('Current directory: {} \\n'.format(os.getcwd()))\n",
    "full_data.head()"
   ]
  },
  {
   "cell_type": "code",
   "execution_count": 823,
   "metadata": {},
   "outputs": [],
   "source": [
    "# here different helper functions are created\n",
    "\n",
    "def str2array(string):\n",
    "    img_array = np.array(string.split(' ')).astype(np.int64)\n",
    "    return img_array\n",
    "\n",
    "def create_subset_labeled_with(label,full_data):\n",
    "    subdata = full_data[full_data['emotion'] == label]\n",
    "    return subdata\n",
    "\n",
    "def construct_a_batch(list_of_datasets,size_by_ten):\n",
    "    batch = pd.DataFrame()\n",
    "    \n",
    "    for sub in list_of_datasets:\n",
    "        idx = np.random.randint(0,len(sub),size_by_ten)\n",
    "        subb = sub.iloc[idx]\n",
    "        batch = pd.concat([batch,subb])\n",
    "    return batch\n",
    "\n",
    "from tqdm import tqdm\n",
    "\n",
    "def create_F_matrix_from_subdataset(subdataset):\n",
    "    F0 = subdataset['pixels'].iloc[0].reshape(-1,1)\n",
    "\n",
    "    for i in tqdm(range(1, len(subdataset))):\n",
    "        F0 = np.append(F0,subdataset['pixels'].iloc[i].reshape(-1,1),axis = 1)\n",
    "        \n",
    "    return F0\n",
    "\n",
    "def mean_column(A):\n",
    "    return A.mean(axis = 1)\n",
    "\n",
    "def subtract_column_mean(A):\n",
    "    column_mean = mean_column(A)\n",
    "    return A - column_mean.reshape(-1,1)\n",
    "\n",
    "def approximate_with_rank(A,r,return_decomposition = False):\n",
    "\n",
    "    u,s,vh = np.linalg.svd(A,full_matrices = False) # decomposition\n",
    "    #print(u.shape, s.shape,vh.shape)\n",
    "    s = s[:r] #truncation\n",
    "    u = u[:,:r]\n",
    "    vh = vh[:r,:]\n",
    "    #print(u.shape, s.shape,vh.shape)\n",
    "    \n",
    "    if return_decomposition:\n",
    "        return u,s,vh\n",
    "    else:\n",
    "        A_ = np.dot(u,np.dot(np.diag(s),vh))\n",
    "        return A_\n",
    "\n",
    "def plot_eigf(U0,y):\n",
    "    for i in range(y):\n",
    "        f = U0[:,i]\n",
    "        f = f.reshape(48,48)\n",
    "        plt.figure(figsize = (8,8))\n",
    "        plt.imshow(f,cmap = 'gray')\n",
    "        plt.show()"
   ]
  },
  {
   "cell_type": "code",
   "execution_count": 824,
   "metadata": {},
   "outputs": [],
   "source": [
    "# turn the data in the dataframes into the usable format\n",
    "\n",
    "full_data['pixels'] = full_data['pixels'].apply(lambda x: str2array(x))\n",
    "\n",
    "full_data['emotion'] = full_data['emotion'].apply(lambda x: np.int64(x))"
   ]
  },
  {
   "cell_type": "code",
   "execution_count": 825,
   "metadata": {},
   "outputs": [],
   "source": [
    "# deleting the column usage, in our case it is quite useless\n",
    "\n",
    "del full_data['Usage']"
   ]
  },
  {
   "cell_type": "code",
   "execution_count": 826,
   "metadata": {},
   "outputs": [],
   "source": [
    "# Random train-test split\n",
    "\n",
    "random.seed = 42\n",
    "\n",
    "test_percentage = 0.1\n",
    "\n",
    "test_indices = np.random.choice(range(0,len(full_data)),\n",
    "                                      size = int(test_percentage*len(full_data)),\n",
    "                                      replace = False)\n",
    "\n",
    "test_set = full_data.iloc[test_indices]\n",
    "full_data.drop(test_indices,inplace = True)\n"
   ]
  },
  {
   "cell_type": "code",
   "execution_count": 827,
   "metadata": {},
   "outputs": [
    {
     "name": "stdout",
     "output_type": "stream",
     "text": [
      "(3588, 2)\n",
      "(32299, 2)\n"
     ]
    }
   ],
   "source": [
    "print(test_set.shape)\n",
    "print(full_data.shape)"
   ]
  },
  {
   "cell_type": "code",
   "execution_count": 828,
   "metadata": {},
   "outputs": [
    {
     "data": {
      "image/png": "[encoded data removed]",
      "text/plain": [
       "<Figure size 432x288 with 1 Axes>"
      ]
     },
     "metadata": {
      "needs_background": "light"
     },
     "output_type": "display_data"
    }
   ],
   "source": [
    "# Taking a glipse over how do the images look like\n",
    "\n",
    "from matplotlib import pyplot as plt\n",
    "\n",
    "img0 = full_data['pixels'].iloc[100].reshape(48,48)\n",
    "plt.imshow(img0, cmap = 'gray');"
   ]
  },
  {
   "cell_type": "code",
   "execution_count": 829,
   "metadata": {},
   "outputs": [],
   "source": [
    "### The ovarall idea of the pipeline\n",
    "\n",
    "# We need to form some dataset with balanced classes, e.g. 100 random images from each category\n",
    "# Then we build and approximation matrix F_norm, which can be induced by subtracting the mean and SVD truncation of the residual\n",
    "# We project the test images on our singular vector space and therefore we find the closest from the prospect of the cosine similarity image to the test one\n",
    "# We predict the label of the test image to be the same, as the label og the closest train one\n",
    "\n",
    "# We stabilize the result by feeding e.g. 11 different subdatasets (one may call them batches) to our model and decide the total prediction by common majority vote\n",
    "\n",
    "\n",
    "### NB f1_score would be used as the measure of quality in the end"
   ]
  },
  {
   "cell_type": "code",
   "execution_count": 830,
   "metadata": {},
   "outputs": [],
   "source": [
    "# we try to work on the non-preprocessed, raw dataset for the moment\n",
    "\n",
    "# we create subdatasets to work with eigenfaces\n",
    "\n",
    "subdata_0 = create_subset_labeled_with(0,full_data)\n",
    "subdata_1 = create_subset_labeled_with(1,full_data)\n",
    "subdata_2 = create_subset_labeled_with(2,full_data)\n",
    "subdata_3 = create_subset_labeled_with(3,full_data)\n",
    "subdata_4 = create_subset_labeled_with(4,full_data)\n",
    "subdata_5 = create_subset_labeled_with(5,full_data)\n",
    "subdata_6 = create_subset_labeled_with(6,full_data)"
   ]
  },
  {
   "cell_type": "code",
   "execution_count": 831,
   "metadata": {},
   "outputs": [],
   "source": [
    "list_of_datasets = [subdata_0,\n",
    "                    subdata_1,\n",
    "                    subdata_2,\n",
    "                    subdata_3,\n",
    "                    subdata_4,\n",
    "                    subdata_5,\n",
    "                    subdata_6]"
   ]
  },
  {
   "cell_type": "code",
   "execution_count": 832,
   "metadata": {},
   "outputs": [
    {
     "name": "stderr",
     "output_type": "stream",
     "text": [
      "100%|██████████████████████████████████████████████████████████████████████████████| 3587/3587 [01:24<00:00, 42.54it/s]\n"
     ]
    }
   ],
   "source": [
    "# preparing the test data for quality check in the end\n",
    "\n",
    "TEST_BATCH_SIZE = len(test_set)\n",
    "testing_batch = construct_a_batch([test_set],TEST_BATCH_SIZE)\n",
    "F_test = create_F_matrix_from_subdataset(testing_batch)"
   ]
  },
  {
   "cell_type": "code",
   "execution_count": 935,
   "metadata": {},
   "outputs": [],
   "source": [
    "################################\n",
    "#HERE STARTS THE RUNNING OF A SINGLE MODEL\n",
    "################################"
   ]
  },
  {
   "cell_type": "code",
   "execution_count": 977,
   "metadata": {},
   "outputs": [],
   "source": [
    "PREDICTIONS = []"
   ]
  },
  {
   "cell_type": "code",
   "execution_count": 1014,
   "metadata": {},
   "outputs": [
    {
     "name": "stderr",
     "output_type": "stream",
     "text": [
      "100%|██████████████████████████████████████████████████████████████████████████████| 2099/2099 [00:31<00:00, 65.74it/s]\n",
      "  0%|                                                                                         | 0/2099 [00:00<?, ?it/s]"
     ]
    },
    {
     "name": "stdout",
     "output_type": "stream",
     "text": [
      "(2304, 3588)\n"
     ]
    },
    {
     "name": "stderr",
     "output_type": "stream",
     "text": [
      "100%|██████████████████████████████████████████████████████████████████████████████| 2099/2099 [00:29<00:00, 70.99it/s]\n",
      "  0%|                                                                                         | 0/2099 [00:00<?, ?it/s]"
     ]
    },
    {
     "name": "stdout",
     "output_type": "stream",
     "text": [
      "(2304, 3588)\n"
     ]
    },
    {
     "name": "stderr",
     "output_type": "stream",
     "text": [
      "100%|██████████████████████████████████████████████████████████████████████████████| 2099/2099 [00:28<00:00, 73.58it/s]\n"
     ]
    },
    {
     "name": "stdout",
     "output_type": "stream",
     "text": [
      "(2304, 3588)\n"
     ]
    }
   ],
   "source": [
    "for iters in range(3):\n",
    "\n",
    "    # we construct a class - balanced subdataset\n",
    "\n",
    "    TRAIN_BATCH_SIZE = 300\n",
    "    batch = construct_a_batch(list_of_datasets,TRAIN_BATCH_SIZE)\n",
    "    # sizes must be (7*second_arg,2)\n",
    "\n",
    "    # we construct a matrix by columns (vectorized images of the test dataset)\n",
    "    F0 = create_F_matrix_from_subdataset(batch)\n",
    "\n",
    "    # we subtract the mean column to normalize it\n",
    "\n",
    "    F0_norm = subtract_column_mean(F0)\n",
    "\n",
    "    # we select the approximation strength (rank of truncation), which, obviously, should be less then min(F0.shape[0],F0.shape[1])\n",
    "\n",
    "    R = 20\n",
    "\n",
    "\n",
    "    # we build an R-rank approximation of the centralized F-matrix\n",
    "\n",
    "    F0_norm_approx = approximate_with_rank(F0_norm, r = R)\n",
    "\n",
    "    # we glimpse at the uniformness of approximation mistakes\n",
    "\n",
    "    #plt.spy(F0_norm - F0_norm_approx,10); \n",
    "\n",
    "    # we decompose it again, but now keeping the factors\n",
    "\n",
    "    U0,S0,Vh0 = approximate_with_rank(F0_norm, \n",
    "                                      r = R,\n",
    "                                      return_decomposition=True)\n",
    "\n",
    "    # we have a glimpse at the first columns of the U matrix, which form a basis in the space of faces (first several)\n",
    "    # we wont need it in the last pipeline\n",
    "    #plot_eigf(U0,3)\n",
    "\n",
    "    # to make a projection of the correspondingly dimensioned vector on the subspace of eigenvectors, we need,\n",
    "    # taking into account the properties of U matrix (unitary), to Compute U^t@vec = coefficients in the basis\n",
    "\n",
    "    # jyst a debugging cell to check whether the model works on the only image\n",
    "\n",
    "    test_img_vec = F_test\n",
    "\n",
    "\n",
    "\n",
    "    print(F_test.shape)\n",
    "\n",
    "    # now we need to project our test images on the subspace induced by singular vectors\n",
    "\n",
    "    # we construct a projection matrix (U is unitary)\n",
    "\n",
    "    # the shape would be R by len(vec(img)) = 2304\n",
    "\n",
    "    projection_matrix = U0.T\n",
    "\n",
    "\n",
    "\n",
    "    # performing the projection\n",
    "\n",
    "    f2 = projection_matrix@test_img_vec\n",
    "\n",
    "    # in general in is R by the TEST_BATCH_SIZE\n",
    "\n",
    "\n",
    "\n",
    "    # the correspondency matrix, with which to compare (we search for the image with quite the same coefficients in linear combination)\n",
    "\n",
    "    W = np.diag(S0)@Vh0\n",
    "\n",
    "\n",
    "    dist = (cosine_similarity(f2.T, W.T).argmax(axis=1) + 1)\n",
    "\n",
    "\n",
    "\n",
    "    prediction = batch['emotion'].iloc[dist]\n",
    "    prediction = np.array(prediction)\n",
    "    #print(prediction[:5])\n",
    "    #print(prediction.shape)\n",
    "\n",
    "    y_true = np.array(testing_batch['emotion'])\n",
    "\n",
    "    f1_score(y_true,\n",
    "             prediction,\n",
    "             average='micro')\n",
    "    \n",
    "    PREDICTIONS.append(prediction)"
   ]
  },
  {
   "cell_type": "code",
   "execution_count": 1015,
   "metadata": {},
   "outputs": [],
   "source": [
    "p = np.concatenate(PREDICTIONS[-3:])\n",
    "p = p.reshape(-1,3588)"
   ]
  },
  {
   "cell_type": "code",
   "execution_count": 1016,
   "metadata": {},
   "outputs": [
    {
     "data": {
      "text/plain": [
       "(3, 3588)"
      ]
     },
     "execution_count": 1016,
     "metadata": {},
     "output_type": "execute_result"
    }
   ],
   "source": [
    "p.shape"
   ]
  },
  {
   "cell_type": "code",
   "execution_count": 1017,
   "metadata": {},
   "outputs": [
    {
     "data": {
      "text/plain": [
       "array([[4, 5, 5, ..., 2, 4, 2],\n",
       "       [0, 1, 5, ..., 4, 5, 5],\n",
       "       [3, 5, 6, ..., 2, 6, 6]], dtype=int64)"
      ]
     },
     "execution_count": 1017,
     "metadata": {},
     "output_type": "execute_result"
    }
   ],
   "source": [
    "p"
   ]
  },
  {
   "cell_type": "code",
   "execution_count": 1018,
   "metadata": {},
   "outputs": [],
   "source": [
    "all_pred = np.int64(np.median(p,axis = 0))"
   ]
  },
  {
   "cell_type": "code",
   "execution_count": 1019,
   "metadata": {},
   "outputs": [
    {
     "data": {
      "text/plain": [
       "0.16025641025641027"
      ]
     },
     "execution_count": 1019,
     "metadata": {},
     "output_type": "execute_result"
    }
   ],
   "source": [
    "f1_score(all_pred,y_true,average='micro')"
   ]
  },
  {
   "cell_type": "code",
   "execution_count": 1020,
   "metadata": {},
   "outputs": [
    {
     "data": {
      "text/plain": [
       "array([5, 2, 3, ..., 3, 4, 3], dtype=int64)"
      ]
     },
     "execution_count": 1020,
     "metadata": {},
     "output_type": "execute_result"
    }
   ],
   "source": [
    "y_true"
   ]
  },
  {
   "cell_type": "code",
   "execution_count": null,
   "metadata": {},
   "outputs": [],
   "source": []
  }
 ],
 "metadata": {
  "kernelspec": {
   "display_name": "Python 3",
   "language": "python",
   "name": "python3"
  },
  "language_info": {
   "codemirror_mode": {
    "name": "ipython",
    "version": 3
   },
   "file_extension": ".py",
   "mimetype": "text/x-python",
   "name": "python",
   "nbconvert_exporter": "python",
   "pygments_lexer": "ipython3",
   "version": "3.7.0"
  }
 },
 "nbformat": 4,
 "nbformat_minor": 4
}
